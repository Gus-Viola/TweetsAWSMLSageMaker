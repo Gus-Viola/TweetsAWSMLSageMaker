{
 "cells": [
  {
   "cell_type": "code",
   "execution_count": 1,
   "metadata": {},
   "outputs": [
    {
     "name": "stdout",
     "output_type": "stream",
     "text": [
      "Requirement already satisfied: twython in /home/cerbero/anaconda3/lib/python3.7/site-packages (3.8.2)\n",
      "Requirement already satisfied: requests>=2.1.0 in /home/cerbero/anaconda3/lib/python3.7/site-packages (from twython) (2.22.0)\n",
      "Requirement already satisfied: requests-oauthlib>=0.4.0 in /home/cerbero/anaconda3/lib/python3.7/site-packages (from twython) (1.3.0)\n",
      "Requirement already satisfied: idna<2.9,>=2.5 in /home/cerbero/anaconda3/lib/python3.7/site-packages (from requests>=2.1.0->twython) (2.8)\n",
      "Requirement already satisfied: urllib3!=1.25.0,!=1.25.1,<1.26,>=1.21.1 in /home/cerbero/anaconda3/lib/python3.7/site-packages (from requests>=2.1.0->twython) (1.25.7)\n",
      "Requirement already satisfied: chardet<3.1.0,>=3.0.2 in /home/cerbero/anaconda3/lib/python3.7/site-packages (from requests>=2.1.0->twython) (3.0.4)\n",
      "Requirement already satisfied: certifi>=2017.4.17 in /home/cerbero/anaconda3/lib/python3.7/site-packages (from requests>=2.1.0->twython) (2020.4.5.1)\n",
      "Requirement already satisfied: oauthlib>=3.0.0 in /home/cerbero/anaconda3/lib/python3.7/site-packages (from requests-oauthlib>=0.4.0->twython) (3.1.0)\n"
     ]
    }
   ],
   "source": [
    "!pip install twython\n"
   ]
  },
  {
   "cell_type": "code",
   "execution_count": 3,
   "metadata": {},
   "outputs": [],
   "source": [
    "from twython import Twython"
   ]
  },
  {
   "cell_type": "code",
   "execution_count": 4,
   "metadata": {},
   "outputs": [
    {
     "name": "stdout",
     "output_type": "stream",
     "text": [
      "/home/cerbero/OneDrive/Additional Courses/AWS ML Book/Code/Chapter 2\n"
     ]
    }
   ],
   "source": [
    "# The two twitter accounts are: @gop @TheDemocrats\n",
    "from os.path import expanduser\n",
    "import os\n",
    "\n",
    "#SRC_PATH = expanduser(\"~\") + '/SageMaker/mastering-ml-on-aws/chapter2'\n",
    "SRC_PATH = expanduser(\"~\") + '/OneDrive/Additional Courses/AWS ML Book/Code/Chapter 2'\n",
    "\n",
    "print(SRC_PATH)\n",
    "\n",
    "\n",
    "#Code below gets the Keys and Secrets from my Twitter App developer account:\n",
    "exec(open(SRC_PATH+\"/environment.py\").read())\n",
    "\n",
    "API_KEY = os.getenv('API_KEY')\n",
    "API_SECRET_KEY = os.getenv('API_SECRET_KEY')\n",
    "ACCESS_TOKEN = os.getenv('ACCESS_TOKEN')\n",
    "ACCESS_TOKEN_SECRET = os.getenv('ACCESS_TOKEN_SECRET')\n",
    "\n",
    "twitter = Twython(API_KEY, API_SECRET_KEY, ACCESS_TOKEN, ACCESS_TOKEN_SECRET)"
   ]
  },
  {
   "cell_type": "code",
   "execution_count": 5,
   "metadata": {},
   "outputs": [],
   "source": [
    "#Original code, which did not work and I fixed with the implementation above\n",
    "\n",
    "# import os\n",
    "\n",
    "# APP_KEY = os.getenv('TWITTER_APP_KEY')\n",
    "# APP_SECRET = os.getenv('TWITTER_APP_SECRET')\n",
    "# OAUTH_TOKEN = os.getenv('TWITTER_OAUTH_TOKEN')\n",
    "# OAUTH_TOKEN_SECRET = os.getenv('TWITTER_OAUTH_TOKEN_SECRET')\n",
    "# from twython import Twython\n",
    "\n",
    "# twitter = Twython(APP_KEY, APP_SECRET,\n",
    "#                   OAUTH_TOKEN, OAUTH_TOKEN_SECRET)\n"
   ]
  },
  {
   "cell_type": "code",
   "execution_count": 6,
   "metadata": {},
   "outputs": [],
   "source": [
    "gop_tweets = [x['full_text'].replace('\\n', ' ') for x in twitter.get_user_timeline(screen_name='GOP', tweet_mode='extended', count=500)]\n"
   ]
  },
  {
   "cell_type": "code",
   "execution_count": 7,
   "metadata": {},
   "outputs": [],
   "source": [
    "dem_tweets = [x['full_text'].replace('\\n', ' ') for x in twitter.get_user_timeline(screen_name='TheDemocrats', tweet_mode='extended', count=500)]\n"
   ]
  },
  {
   "cell_type": "code",
   "execution_count": 8,
   "metadata": {},
   "outputs": [],
   "source": [
    "def save_tweets(filename, tweets):\n",
    "    with open(filename, \"w+\") as file:\n",
    "        #file.write(\"\\n\".join(tweets).encode('utf-8'))\n",
    "        file.write(\"\\n\".join(tweets))\n"
   ]
  },
  {
   "cell_type": "code",
   "execution_count": 9,
   "metadata": {},
   "outputs": [],
   "source": [
    "save_tweets(SRC_PATH + '/gop.txt', gop_tweets)\n",
    "save_tweets(SRC_PATH + '/dem.txt', dem_tweets)\n"
   ]
  },
  {
   "cell_type": "code",
   "execution_count": null,
   "metadata": {},
   "outputs": [],
   "source": []
  },
  {
   "cell_type": "code",
   "execution_count": null,
   "metadata": {},
   "outputs": [],
   "source": []
  }
 ],
 "metadata": {
  "kernelspec": {
   "display_name": "Python 3",
   "language": "python",
   "name": "python3"
  },
  "language_info": {
   "codemirror_mode": {
    "name": "ipython",
    "version": 3
   },
   "file_extension": ".py",
   "mimetype": "text/x-python",
   "name": "python",
   "nbconvert_exporter": "python",
   "pygments_lexer": "ipython3",
   "version": "3.7.3"
  }
 },
 "nbformat": 4,
 "nbformat_minor": 2
}
